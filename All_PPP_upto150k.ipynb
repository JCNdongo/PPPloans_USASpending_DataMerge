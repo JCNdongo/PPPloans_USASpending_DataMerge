{
 "cells": [
  {
   "cell_type": "markdown",
   "id": "400f4544",
   "metadata": {},
   "source": [
    "### Creating a single file for all PPP Loans up to 150,000 by merging 12 original files, filtering by PPP as processing method, and dropping unnecessary columns.### "
   ]
  },
  {
   "cell_type": "code",
   "execution_count": 1,
   "id": "bf6d4252",
   "metadata": {},
   "outputs": [],
   "source": [
    "#dependencies\n",
    "import pandas as pd\n",
    "import os"
   ]
  },
  {
   "cell_type": "code",
   "execution_count": 2,
   "id": "9ccac147",
   "metadata": {},
   "outputs": [],
   "source": [
    "#establish source folder path to access original files and house the final single file\n",
    "source_folder = r'F:\\FAU PhD\\DISSERTATION\\DATABASES\\DataTESTS\\2023.08.27_Test'"
   ]
  },
  {
   "cell_type": "code",
   "execution_count": 3,
   "id": "d6559ca3",
   "metadata": {},
   "outputs": [],
   "source": [
    "#list all the columns to drop from each original file\n",
    "columns_to_drop = [\n",
    "    'LoanNumber',\n",
    "    'DateApproved',\n",
    "    'SBAOfficeCode',\n",
    "    'BorrowerAddress',\n",
    "    'BorrowerCity',\n",
    "    'BorrowerState',\n",
    "    'BorrowerZip',\n",
    "    'LoanStatusDate',\n",
    "    'LoanStatus',\n",
    "    'Term',\n",
    "    'SBAGuarantyPercentage',\n",
    "    'FranchiseName',\n",
    "    'ServicingLenderLocationID',\n",
    "    'ServicingLenderName',\n",
    "    'ServicingLenderAddress',\n",
    "    'ServicingLenderCity',\n",
    "    'ServicingLenderState',\n",
    "    'ServicingLenderZip',\n",
    "    'RuralUrbanIndicator',\n",
    "    'ProjectCity',\n",
    "    'ProjectCountyName',\n",
    "    'ProjectState',\n",
    "    'ProjectZip',\n",
    "    'CD',\n",
    "    'Race',\n",
    "    'Ethnicity',\n",
    "    'UTILITIES_PROCEED',\n",
    "    'PAYROLL_PROCEED',\n",
    "    'MORTGAGE_INTEREST_PROCEED',\n",
    "    'RENT_PROCEED',\n",
    "    'REFINANCE_EIDL_PROCEED',\n",
    "    'HEALTH_CARE_PROCEED',\n",
    "    'DEBT_INTEREST_PROCEED',\n",
    "    'BusinessType',\n",
    "    'OriginatingLenderLocationID',\n",
    "    'OriginatingLenderCity',\n",
    "    'OriginatingLenderState',\n",
    "    'Gender',\n",
    "    'Veteran',\n",
    "    'NonProfit'\n",
    "]\n"
   ]
  },
  {
   "cell_type": "code",
   "execution_count": 4,
   "id": "4b7fdc91",
   "metadata": {},
   "outputs": [],
   "source": [
    "# Create an empty list to store filtered and trimmed data frames\n",
    "dfs = []"
   ]
  },
  {
   "cell_type": "code",
   "execution_count": 5,
   "id": "c64f2c86",
   "metadata": {},
   "outputs": [
    {
     "name": "stderr",
     "output_type": "stream",
     "text": [
      "C:\\Users\\mjndo\\anaconda3\\envs\\PythonData\\lib\\site-packages\\IPython\\core\\interactiveshell.py:3457: DtypeWarning: Columns (50) have mixed types.Specify dtype option on import or set low_memory=False.\n",
      "  exec(code_obj, self.user_global_ns, self.user_ns)\n",
      "C:\\Users\\mjndo\\anaconda3\\envs\\PythonData\\lib\\site-packages\\IPython\\core\\interactiveshell.py:3457: DtypeWarning: Columns (16,50) have mixed types.Specify dtype option on import or set low_memory=False.\n",
      "  exec(code_obj, self.user_global_ns, self.user_ns)\n"
     ]
    }
   ],
   "source": [
    "# Loop over each CSV file\n",
    "for i in range(1, 13):\n",
    "    file_name = f\"public_up_to_150k_{i}_230101.csv\"\n",
    "    file_path = os.path.join(source_folder, file_name)\n",
    "    \n",
    "    # Read the CSV file into a DataFrame\n",
    "    df = pd.read_csv(file_path)\n",
    "    \n",
    "    # Filter the rows where 'ProcessingMethod' is 'PPP'\n",
    "    filtered_df = df[df['ProcessingMethod'] == 'PPP']\n",
    "    \n",
    "    # Drop specified columns\n",
    "    trimmed_df = filtered_df.drop(columns=columns_to_drop, errors='ignore')\n",
    "    \n",
    "    # Append the trimmed DataFrame to the list\n",
    "    dfs.append(trimmed_df)"
   ]
  },
  {
   "cell_type": "code",
   "execution_count": 6,
   "id": "922b7e4d",
   "metadata": {},
   "outputs": [
    {
     "data": {
      "text/html": [
       "<div>\n",
       "<style scoped>\n",
       "    .dataframe tbody tr th:only-of-type {\n",
       "        vertical-align: middle;\n",
       "    }\n",
       "\n",
       "    .dataframe tbody tr th {\n",
       "        vertical-align: top;\n",
       "    }\n",
       "\n",
       "    .dataframe thead th {\n",
       "        text-align: right;\n",
       "    }\n",
       "</style>\n",
       "<table border=\"1\" class=\"dataframe\">\n",
       "  <thead>\n",
       "    <tr style=\"text-align: right;\">\n",
       "      <th></th>\n",
       "      <th>ProcessingMethod</th>\n",
       "      <th>BorrowerName</th>\n",
       "      <th>InitialApprovalAmount</th>\n",
       "      <th>CurrentApprovalAmount</th>\n",
       "      <th>UndisbursedAmount</th>\n",
       "      <th>HubzoneIndicator</th>\n",
       "      <th>LMIIndicator</th>\n",
       "      <th>BusinessAgeDescription</th>\n",
       "      <th>JobsReported</th>\n",
       "      <th>NAICSCode</th>\n",
       "      <th>OriginatingLender</th>\n",
       "      <th>ForgivenessAmount</th>\n",
       "      <th>ForgivenessDate</th>\n",
       "    </tr>\n",
       "  </thead>\n",
       "  <tbody>\n",
       "    <tr>\n",
       "      <th>0</th>\n",
       "      <td>PPP</td>\n",
       "      <td>NOT AVAILABLE</td>\n",
       "      <td>148440.00</td>\n",
       "      <td>148440.00</td>\n",
       "      <td>0.0</td>\n",
       "      <td>N</td>\n",
       "      <td>N</td>\n",
       "      <td>New Business or 2 years or less</td>\n",
       "      <td>12.0</td>\n",
       "      <td>339114.0</td>\n",
       "      <td>Bank of America, National Association</td>\n",
       "      <td>150083.01</td>\n",
       "      <td>06/11/2021</td>\n",
       "    </tr>\n",
       "    <tr>\n",
       "      <th>1</th>\n",
       "      <td>PPP</td>\n",
       "      <td>NORTH CHARLESTON HOSPITALITY GROUP LLC</td>\n",
       "      <td>140081.78</td>\n",
       "      <td>140081.78</td>\n",
       "      <td>0.0</td>\n",
       "      <td>N</td>\n",
       "      <td>N</td>\n",
       "      <td>Existing or more than 2 years old</td>\n",
       "      <td>3.0</td>\n",
       "      <td>NaN</td>\n",
       "      <td>Synovus Bank</td>\n",
       "      <td>141920.11</td>\n",
       "      <td>08/25/2021</td>\n",
       "    </tr>\n",
       "    <tr>\n",
       "      <th>2</th>\n",
       "      <td>PPP</td>\n",
       "      <td>Q AND J SERVICES LLC</td>\n",
       "      <td>136520.96</td>\n",
       "      <td>136520.96</td>\n",
       "      <td>0.0</td>\n",
       "      <td>Y</td>\n",
       "      <td>Y</td>\n",
       "      <td>Existing or more than 2 years old</td>\n",
       "      <td>170.0</td>\n",
       "      <td>541990.0</td>\n",
       "      <td>Synovus Bank</td>\n",
       "      <td>137747.78</td>\n",
       "      <td>03/29/2021</td>\n",
       "    </tr>\n",
       "    <tr>\n",
       "      <th>3</th>\n",
       "      <td>PPP</td>\n",
       "      <td>Exemption 6</td>\n",
       "      <td>130600.00</td>\n",
       "      <td>130600.00</td>\n",
       "      <td>0.0</td>\n",
       "      <td>N</td>\n",
       "      <td>N</td>\n",
       "      <td>Unanswered</td>\n",
       "      <td>14.0</td>\n",
       "      <td>624190.0</td>\n",
       "      <td>NaN</td>\n",
       "      <td>131876.98</td>\n",
       "      <td>04/27/2021</td>\n",
       "    </tr>\n",
       "    <tr>\n",
       "      <th>4</th>\n",
       "      <td>PPP</td>\n",
       "      <td>OPTIMIZED PROCESS SOLUTIONS DBA AAA INDUSTRIES</td>\n",
       "      <td>126798.00</td>\n",
       "      <td>126798.00</td>\n",
       "      <td>0.0</td>\n",
       "      <td>Y</td>\n",
       "      <td>N</td>\n",
       "      <td>New Business or 2 years or less</td>\n",
       "      <td>20.0</td>\n",
       "      <td>NaN</td>\n",
       "      <td>Bank of America, National Association</td>\n",
       "      <td>127836.70</td>\n",
       "      <td>02/25/2021</td>\n",
       "    </tr>\n",
       "  </tbody>\n",
       "</table>\n",
       "</div>"
      ],
      "text/plain": [
       "  ProcessingMethod                                    BorrowerName  \\\n",
       "0              PPP                                   NOT AVAILABLE   \n",
       "1              PPP          NORTH CHARLESTON HOSPITALITY GROUP LLC   \n",
       "2              PPP                            Q AND J SERVICES LLC   \n",
       "3              PPP                                     Exemption 6   \n",
       "4              PPP  OPTIMIZED PROCESS SOLUTIONS DBA AAA INDUSTRIES   \n",
       "\n",
       "   InitialApprovalAmount  CurrentApprovalAmount  UndisbursedAmount  \\\n",
       "0              148440.00              148440.00                0.0   \n",
       "1              140081.78              140081.78                0.0   \n",
       "2              136520.96              136520.96                0.0   \n",
       "3              130600.00              130600.00                0.0   \n",
       "4              126798.00              126798.00                0.0   \n",
       "\n",
       "  HubzoneIndicator LMIIndicator             BusinessAgeDescription  \\\n",
       "0                N            N    New Business or 2 years or less   \n",
       "1                N            N  Existing or more than 2 years old   \n",
       "2                Y            Y  Existing or more than 2 years old   \n",
       "3                N            N                         Unanswered   \n",
       "4                Y            N    New Business or 2 years or less   \n",
       "\n",
       "   JobsReported  NAICSCode                      OriginatingLender  \\\n",
       "0          12.0   339114.0  Bank of America, National Association   \n",
       "1           3.0        NaN                           Synovus Bank   \n",
       "2         170.0   541990.0                           Synovus Bank   \n",
       "3          14.0   624190.0                                    NaN   \n",
       "4          20.0        NaN  Bank of America, National Association   \n",
       "\n",
       "   ForgivenessAmount ForgivenessDate  \n",
       "0          150083.01      06/11/2021  \n",
       "1          141920.11      08/25/2021  \n",
       "2          137747.78      03/29/2021  \n",
       "3          131876.98      04/27/2021  \n",
       "4          127836.70      02/25/2021  "
      ]
     },
     "execution_count": 6,
     "metadata": {},
     "output_type": "execute_result"
    }
   ],
   "source": [
    "# Concatenate all data frames in the list into a single data frame\n",
    "merged_df = pd.concat(dfs, ignore_index=True)\n",
    "\n",
    "#preview the merged DataFrame\n",
    "merged_df.head()"
   ]
  },
  {
   "cell_type": "code",
   "execution_count": 8,
   "id": "82430a7f",
   "metadata": {},
   "outputs": [
    {
     "data": {
      "text/plain": [
       "(7935860, 13)"
      ]
     },
     "execution_count": 8,
     "metadata": {},
     "output_type": "execute_result"
    }
   ],
   "source": [
    "merged_df.shape"
   ]
  },
  {
   "cell_type": "code",
   "execution_count": 7,
   "id": "95c0fae4",
   "metadata": {},
   "outputs": [
    {
     "name": "stdout",
     "output_type": "stream",
     "text": [
      "Merged file saved at F:\\FAU PhD\\DISSERTATION\\DATABASES\\DataTESTS\\2023.08.27_Test\\ALL_PPP_up_to_150k.csv\n"
     ]
    }
   ],
   "source": [
    "# Save the merged DataFrame to a new CSV file\n",
    "output_file_path = os.path.join(source_folder, \"ALL_PPP_up_to_150k.csv\")\n",
    "merged_df.to_csv(output_file_path, index=False)\n",
    "\n",
    "print(f\"Merged file saved at {output_file_path}\")"
   ]
  }
 ],
 "metadata": {
  "kernelspec": {
   "display_name": "PythonData",
   "language": "python",
   "name": "pythondata"
  },
  "language_info": {
   "codemirror_mode": {
    "name": "ipython",
    "version": 3
   },
   "file_extension": ".py",
   "mimetype": "text/x-python",
   "name": "python",
   "nbconvert_exporter": "python",
   "pygments_lexer": "ipython3",
   "version": "3.7.7"
  }
 },
 "nbformat": 4,
 "nbformat_minor": 5
}
