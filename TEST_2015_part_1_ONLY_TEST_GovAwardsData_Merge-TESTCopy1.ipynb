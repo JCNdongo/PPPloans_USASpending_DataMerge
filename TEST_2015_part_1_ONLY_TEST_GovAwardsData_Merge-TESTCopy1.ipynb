{
 "cells": [
  {
   "cell_type": "markdown",
   "id": "69643448",
   "metadata": {},
   "source": [
    "##Aggregating 2015 USASpending.gov data for file 1 of 5##\n",
    "####Determine which columns to keep and aggregate the ones with amounts####"
   ]
  },
  {
   "cell_type": "code",
   "execution_count": 1,
   "id": "95288449",
   "metadata": {},
   "outputs": [],
   "source": [
    "#dependencies\n",
    "import pandas as pd\n",
    "import os"
   ]
  },
  {
   "cell_type": "code",
   "execution_count": 2,
   "id": "5dab8026",
   "metadata": {},
   "outputs": [],
   "source": [
    "#establishing source file folder and where new file will go\n",
    "source_folder = r'F:\\FAU PhD\\DISSERTATION\\DATABASES\\DataTESTS\\2023.08.27_Test'\n",
    "\n",
    "# File name\n",
    "file_name = \"FY2015_All_Contracts_Full_20230608_1.csv\"\n",
    "file_path = os.path.join(source_folder, file_name)"
   ]
  },
  {
   "cell_type": "code",
   "execution_count": 3,
   "id": "44467c01",
   "metadata": {},
   "outputs": [],
   "source": [
    "# Columns to keep\n",
    "columns_to_keep = [\n",
    "    'total_dollars_obligated',\n",
    "    'total_outlayed_amount_for_overall_award',\n",
    "    'current_total_value_of_award',\n",
    "    'base_and_all_options_value',\n",
    "    'potential_total_value_of_award',\n",
    "    'number_of_offers_received',\n",
    "    'recipient_uei',\n",
    "    'recipient_name',\n",
    "    'recipient_city_name',\n",
    "    'recipient_state_code',\n",
    "    'recipient_zip_4_code',\n",
    "    'naics_code',\n",
    "    'naics_description',\n",
    "    'alaskan_native_corporation_owned_firm',\n",
    "    'american_indian_owned_business',\n",
    "    'indian_tribe_federally_recognized',\n",
    "    'native_hawaiian_organization_owned_firm',\n",
    "    'tribally_owned_firm',\n",
    "    'veteran_owned_business',\n",
    "    'service_disabled_veteran_owned_business',\n",
    "    'woman_owned_business',\n",
    "    'women_owned_small_business',\n",
    "    'economically_disadvantaged_women_owned_small_business',\n",
    "    'joint_venture_women_owned_small_business',\n",
    "    'joint_venture_economic_disadvantaged_women_owned_small_bus',\n",
    "    'minority_owned_business',\n",
    "    'subcontinent_asian_asian_indian_american_owned_business',\n",
    "    'asian_pacific_american_owned_business',\n",
    "    'black_american_owned_business',\n",
    "    'hispanic_american_owned_business',\n",
    "    'native_american_owned_business',\n",
    "    'other_minority_owned_business',\n",
    "    'usaspending_permalink'\n",
    "]\n"
   ]
  },
  {
   "cell_type": "code",
   "execution_count": 4,
   "id": "0bc11901",
   "metadata": {},
   "outputs": [],
   "source": [
    "# Columns to aggregate (sum)\n",
    "columns_to_aggregate = [\n",
    "    'total_dollars_obligated',\n",
    "    'total_outlayed_amount_for_overall_award',\n",
    "    'current_total_value_of_award',\n",
    "    'base_and_all_options_value',\n",
    "    'potential_total_value_of_award',\n",
    "    'number_of_offers_received'\n",
    "]"
   ]
  },
  {
   "cell_type": "code",
   "execution_count": 5,
   "id": "3cc51bc2",
   "metadata": {},
   "outputs": [
    {
     "name": "stderr",
     "output_type": "stream",
     "text": [
      "C:\\Users\\mjndo\\anaconda3\\envs\\PythonData\\lib\\site-packages\\IPython\\core\\interactiveshell.py:3457: DtypeWarning: Columns (27,70,71,80,113,133,163) have mixed types.Specify dtype option on import or set low_memory=False.\n",
      "  exec(code_obj, self.user_global_ns, self.user_ns)\n"
     ]
    },
    {
     "data": {
      "text/html": [
       "<div>\n",
       "<style scoped>\n",
       "    .dataframe tbody tr th:only-of-type {\n",
       "        vertical-align: middle;\n",
       "    }\n",
       "\n",
       "    .dataframe tbody tr th {\n",
       "        vertical-align: top;\n",
       "    }\n",
       "\n",
       "    .dataframe thead th {\n",
       "        text-align: right;\n",
       "    }\n",
       "</style>\n",
       "<table border=\"1\" class=\"dataframe\">\n",
       "  <thead>\n",
       "    <tr style=\"text-align: right;\">\n",
       "      <th></th>\n",
       "      <th>recipient_uei</th>\n",
       "      <th>total_dollars_obligated</th>\n",
       "      <th>total_outlayed_amount_for_overall_award</th>\n",
       "      <th>current_total_value_of_award</th>\n",
       "      <th>base_and_all_options_value</th>\n",
       "      <th>potential_total_value_of_award</th>\n",
       "      <th>number_of_offers_received</th>\n",
       "      <th>naics_code</th>\n",
       "    </tr>\n",
       "  </thead>\n",
       "  <tbody>\n",
       "    <tr>\n",
       "      <th>0</th>\n",
       "      <td>C112Q3D8VPM3</td>\n",
       "      <td>6656.16</td>\n",
       "      <td>0.0</td>\n",
       "      <td>6656.16</td>\n",
       "      <td>6656.16</td>\n",
       "      <td>6656.16</td>\n",
       "      <td>2.0</td>\n",
       "      <td>333112.0</td>\n",
       "    </tr>\n",
       "    <tr>\n",
       "      <th>1</th>\n",
       "      <td>C114HTL5ADV7</td>\n",
       "      <td>305741.12</td>\n",
       "      <td>0.0</td>\n",
       "      <td>305741.12</td>\n",
       "      <td>306855.32</td>\n",
       "      <td>305741.12</td>\n",
       "      <td>7.0</td>\n",
       "      <td>2147857.0</td>\n",
       "    </tr>\n",
       "    <tr>\n",
       "      <th>2</th>\n",
       "      <td>C114QV5R7YX8</td>\n",
       "      <td>4190846.34</td>\n",
       "      <td>0.0</td>\n",
       "      <td>4190846.34</td>\n",
       "      <td>2007836.09</td>\n",
       "      <td>4190846.34</td>\n",
       "      <td>4.0</td>\n",
       "      <td>623998.0</td>\n",
       "    </tr>\n",
       "    <tr>\n",
       "      <th>3</th>\n",
       "      <td>C115HRKETCN8</td>\n",
       "      <td>0.00</td>\n",
       "      <td>0.0</td>\n",
       "      <td>0.00</td>\n",
       "      <td>0.00</td>\n",
       "      <td>500000.00</td>\n",
       "      <td>999.0</td>\n",
       "      <td>541613.0</td>\n",
       "    </tr>\n",
       "    <tr>\n",
       "      <th>4</th>\n",
       "      <td>C115J41MGLP5</td>\n",
       "      <td>0.00</td>\n",
       "      <td>0.0</td>\n",
       "      <td>0.00</td>\n",
       "      <td>0.00</td>\n",
       "      <td>0.00</td>\n",
       "      <td>1.0</td>\n",
       "      <td>334412.0</td>\n",
       "    </tr>\n",
       "  </tbody>\n",
       "</table>\n",
       "</div>"
      ],
      "text/plain": [
       "  recipient_uei  total_dollars_obligated  \\\n",
       "0  C112Q3D8VPM3                  6656.16   \n",
       "1  C114HTL5ADV7                305741.12   \n",
       "2  C114QV5R7YX8               4190846.34   \n",
       "3  C115HRKETCN8                     0.00   \n",
       "4  C115J41MGLP5                     0.00   \n",
       "\n",
       "   total_outlayed_amount_for_overall_award  current_total_value_of_award  \\\n",
       "0                                      0.0                       6656.16   \n",
       "1                                      0.0                     305741.12   \n",
       "2                                      0.0                    4190846.34   \n",
       "3                                      0.0                          0.00   \n",
       "4                                      0.0                          0.00   \n",
       "\n",
       "   base_and_all_options_value  potential_total_value_of_award  \\\n",
       "0                     6656.16                         6656.16   \n",
       "1                   306855.32                       305741.12   \n",
       "2                  2007836.09                      4190846.34   \n",
       "3                        0.00                       500000.00   \n",
       "4                        0.00                            0.00   \n",
       "\n",
       "   number_of_offers_received  naics_code  \n",
       "0                        2.0    333112.0  \n",
       "1                        7.0   2147857.0  \n",
       "2                        4.0    623998.0  \n",
       "3                      999.0    541613.0  \n",
       "4                        1.0    334412.0  "
      ]
     },
     "execution_count": 5,
     "metadata": {},
     "output_type": "execute_result"
    }
   ],
   "source": [
    "# Read the CSV file into a DataFrame\n",
    "df = pd.read_csv(file_path)\n",
    "\n",
    "# Keep only the columns specified\n",
    "df_filtered = df[columns_to_keep]\n",
    "\n",
    "# Aggregate data\n",
    "df_aggregated = df_filtered.groupby('recipient_uei').sum(numeric_only=True).reset_index()\n",
    "df_aggregated.head()"
   ]
  },
  {
   "cell_type": "code",
   "execution_count": 7,
   "id": "40452dfd",
   "metadata": {},
   "outputs": [
    {
     "data": {
      "text/plain": [
       "(86760, 8)"
      ]
     },
     "execution_count": 7,
     "metadata": {},
     "output_type": "execute_result"
    }
   ],
   "source": [
    "df_aggregated.shape"
   ]
  },
  {
   "cell_type": "code",
   "execution_count": 8,
   "id": "2e1075e7",
   "metadata": {},
   "outputs": [],
   "source": [
    "# Rename columns\n",
    "df_aggregated.rename(columns={\n",
    "    'total_dollars_obligated': '2015_total_dollars_obligated',\n",
    "    'total_outlayed_amount_for_overall_award': '2015_total_outlayed_amount_for_overall_award',\n",
    "    'current_total_value_of_award': '2015_current_total_value_of_award',\n",
    "    'base_and_all_options_value': '2015_base_and_all_options_value',\n",
    "    'potential_total_value_of_award': '2015_potential_total_value_of_award',\n",
    "    'number_of_offers_received': '2015_number_of_offers_received'\n",
    "}, inplace=True)"
   ]
  },
  {
   "cell_type": "code",
   "execution_count": 9,
   "id": "24078c8b",
   "metadata": {},
   "outputs": [
    {
     "name": "stdout",
     "output_type": "stream",
     "text": [
      "Aggregated file saved at F:\\FAU PhD\\DISSERTATION\\DATABASES\\DataTESTS\\2023.08.27_Test\\2015_1_Contracting.csv\n"
     ]
    }
   ],
   "source": [
    "# Save the final DataFrame to CSV\n",
    "output_file_path = os.path.join(source_folder, '2015_1_Contracting.csv')\n",
    "df_aggregated.to_csv(output_file_path, index=False)\n",
    "\n",
    "print(f\"Aggregated file saved at {output_file_path}\")"
   ]
  }
 ],
 "metadata": {
  "kernelspec": {
   "display_name": "PythonData",
   "language": "python",
   "name": "pythondata"
  },
  "language_info": {
   "codemirror_mode": {
    "name": "ipython",
    "version": 3
   },
   "file_extension": ".py",
   "mimetype": "text/x-python",
   "name": "python",
   "nbconvert_exporter": "python",
   "pygments_lexer": "ipython3",
   "version": "3.7.7"
  }
 },
 "nbformat": 4,
 "nbformat_minor": 5
}
